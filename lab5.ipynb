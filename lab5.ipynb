{
  "nbformat": 4,
  "nbformat_minor": 0,
  "metadata": {
    "colab": {
      "name": "lab5.ipynb",
      "provenance": [],
      "authorship_tag": "ABX9TyPXWvPrK73H3NSfMFngH0Xo",
      "include_colab_link": true
    },
    "kernelspec": {
      "name": "python3",
      "display_name": "Python 3"
    },
    "language_info": {
      "name": "python"
    }
  },
  "cells": [
    {
      "cell_type": "markdown",
      "metadata": {
        "id": "view-in-github",
        "colab_type": "text"
      },
      "source": [
        "<a href=\"https://colab.research.google.com/github/SpRayquaza11/T_T_LAB/blob/main/lab5.ipynb\" target=\"_parent\"><img src=\"https://colab.research.google.com/assets/colab-badge.svg\" alt=\"Open In Colab\"/></a>"
      ]
    },
    {
      "cell_type": "markdown",
      "source": [
        "p1)Print a list after removing specified elements"
      ],
      "metadata": {
        "id": "3yLuccYVNWQK"
      }
    },
    {
      "cell_type": "code",
      "source": [
        "life_goals = ['food', 'stay-alive', 'death', 'isekai', 'power-fantasy', 'truck-kun']\n",
        "y = life_goals[2:]\n",
        "life-goals = [x for (i,x) in enumerate(life_goals) if i not in (2,3,4,5)]\n",
        "print(\"Unholy\",life_goals)\n",
        "\n",
        "for i in y :\n",
        "  print(\"truth of life is\",i)"
      ],
      "metadata": {
        "colab": {
          "base_uri": "https://localhost:8080/"
        },
        "id": "Ps40B3uwNZSG",
        "outputId": "40037d85-f8f3-43f8-e16a-7d9d37dcf644"
      },
      "execution_count": 7,
      "outputs": [
        {
          "output_type": "stream",
          "name": "stdout",
          "text": [
            "Unholy ['food', 'stay-alive']\n",
            "truth of life is death\n",
            "truth of life is isekai\n",
            "truth of life is power-fantasy\n",
            "truth of life is truck-kun\n"
          ]
        }
      ]
    },
    {
      "cell_type": "markdown",
      "source": [
        "p2)Difference between the two lists"
      ],
      "metadata": {
        "id": "yfRsITBERy66"
      }
    },
    {
      "cell_type": "code",
      "source": [
        "list1 = [1, 3, 5, 7, 9]\n",
        "list2=[1, 2, 4, 6, 7, 8]\n",
        "\n",
        "## it is not possible to subtract lists without converting it to set ##\n",
        "\n",
        "diff_list1_list2 = list(set(list1) - set(list2))\n",
        "diff_list2_list1 = list(set(list2) - set(list1))\n",
        "\n",
        "print(diff_list1_list2)\n",
        "print(diff_list2_list1)"
      ],
      "metadata": {
        "colab": {
          "base_uri": "https://localhost:8080/"
        },
        "id": "hHacVu0yTFL2",
        "outputId": "ebc9de5b-d5f6-4137-8685-40cab2538343"
      },
      "execution_count": 14,
      "outputs": [
        {
          "output_type": "stream",
          "name": "stdout",
          "text": [
            "[9, 3, 5]\n",
            "[8, 2, 4, 6]\n"
          ]
        }
      ]
    },
    {
      "cell_type": "markdown",
      "source": [
        "p3)Concatinate two lists"
      ],
      "metadata": {
        "id": "fbisQBTfWg1q"
      }
    },
    {
      "cell_type": "code",
      "source": [
        "list_x=[\"hmm\",\"time\",\"to\"]\n",
        "list_y=[\"get\",\"some\",\"clout\"]\n",
        "\n",
        "list_f=list_x+list_y\n",
        "\n",
        "print(list_f)"
      ],
      "metadata": {
        "colab": {
          "base_uri": "https://localhost:8080/"
        },
        "id": "NCCu1IOvZPo0",
        "outputId": "6f4123ac-1e15-464d-fc62-0f75aec68d85"
      },
      "execution_count": 16,
      "outputs": [
        {
          "output_type": "stream",
          "name": "stdout",
          "text": [
            "['hmm', 'time', 'to', 'get', 'some', 'clout']\n"
          ]
        }
      ]
    },
    {
      "cell_type": "markdown",
      "source": [
        "p4) add an element after the original list"
      ],
      "metadata": {
        "id": "_hKkBFXImrEk"
      }
    },
    {
      "cell_type": "code",
      "source": [
        "color = ['Red', 'Green', 'Black']\n",
        "print(\"Original List: \",color)\n",
        "color = [v for elt in color for v in (elt,'isekai')]\n",
        "print(\"Original List: \",color)"
      ],
      "metadata": {
        "colab": {
          "base_uri": "https://localhost:8080/"
        },
        "id": "cAC8TDlymv5j",
        "outputId": "397f83b2-88cf-4603-8f14-27cb3227ce00"
      },
      "execution_count": 17,
      "outputs": [
        {
          "output_type": "stream",
          "name": "stdout",
          "text": [
            "Original List:  ['Red', 'Green', 'Black']\n",
            "Original List:  ['Red', 'isekai', 'Green', 'isekai', 'Black', 'isekai']\n"
          ]
        }
      ]
    },
    {
      "cell_type": "markdown",
      "source": [
        "p5)remove eleement at specific index"
      ],
      "metadata": {
        "id": "kvM2JifLm6Oj"
      }
    },
    {
      "cell_type": "code",
      "source": [
        "list_x=[\"isekai\",\"is\",\"good\",\"over-rated\",\"best\",\"actually.\"]\n",
        "## now we reomve the element which is obviously a lie using pop function ##\n",
        "list_x.pop(-3)\n",
        "\n",
        "print(\"The truth : \",list_x )\n"
      ],
      "metadata": {
        "colab": {
          "base_uri": "https://localhost:8080/"
        },
        "id": "3tQIoyzxnlQ8",
        "outputId": "de44bc09-d8b8-4398-8359-f683d51a5544"
      },
      "execution_count": 21,
      "outputs": [
        {
          "output_type": "stream",
          "name": "stdout",
          "text": [
            "The truth :  ['isekai', 'is', 'good', 'best', 'actually.']\n"
          ]
        }
      ]
    }
  ]
}