{
  "nbformat": 4,
  "nbformat_minor": 0,
  "metadata": {
    "colab": {
      "name": "lab3.ipynb",
      "provenance": [],
      "authorship_tag": "ABX9TyOcR1nzfYOElRQWMxmAZfqx",
      "include_colab_link": true
    },
    "kernelspec": {
      "name": "python3",
      "display_name": "Python 3"
    },
    "language_info": {
      "name": "python"
    }
  },
  "cells": [
    {
      "cell_type": "markdown",
      "metadata": {
        "id": "view-in-github",
        "colab_type": "text"
      },
      "source": [
        "<a href=\"https://colab.research.google.com/github/SpRayquaza11/T_T_LAB/blob/main/lab3.ipynb\" target=\"_parent\"><img src=\"https://colab.research.google.com/assets/colab-badge.svg\" alt=\"Open In Colab\"/></a>"
      ]
    },
    {
      "cell_type": "markdown",
      "source": [
        "WAP to calculate the sum of digits of a given number."
      ],
      "metadata": {
        "id": "F-5DLViaI6Cw"
      }
    },
    {
      "cell_type": "code",
      "execution_count": 26,
      "metadata": {
        "colab": {
          "base_uri": "https://localhost:8080/"
        },
        "id": "Qkj_4_LV13qF",
        "outputId": "d8d1cff3-70c6-406a-ea98-c1a6ce7cf41b"
      },
      "outputs": [
        {
          "output_type": "stream",
          "name": "stdout",
          "text": [
            "enter a number\n",
            "34431\n",
            "the sum is  15\n"
          ]
        }
      ],
      "source": [
        "print(\"enter a number\")\n",
        "x = int(input())\n",
        "s = 0\n",
        "while(x>0):\n",
        "  f = x%10\n",
        "  s += f\n",
        "  x = x // 10\n",
        "print(\"the sum is \", s)\n",
        "\n",
        "\n"
      ]
    },
    {
      "cell_type": "markdown",
      "source": [
        "2) WAP to calculate the factorial of a given number."
      ],
      "metadata": {
        "id": "fKqlm4CPIwBn"
      }
    },
    {
      "cell_type": "code",
      "source": [
        "x = int(input(\"enter the number to find factorial of \"))\n",
        "i=1\n",
        "f=x\n",
        "while (i<x):  \n",
        "  f = f*i\n",
        "  i+=1\n",
        "print(\"the factorial is\",f)\n"
      ],
      "metadata": {
        "colab": {
          "base_uri": "https://localhost:8080/"
        },
        "id": "WtTSxzsp_MyY",
        "outputId": "161d4250-1a49-49f6-a180-bec33ef88b37"
      },
      "execution_count": 35,
      "outputs": [
        {
          "output_type": "stream",
          "name": "stdout",
          "text": [
            "enter the number to find factorial of 5\n",
            "the factorial is 120\n"
          ]
        }
      ]
    },
    {
      "cell_type": "markdown",
      "source": [
        "3)WAP to display the reverse of a number entered through keyboard. "
      ],
      "metadata": {
        "id": "oqEuccQzIk_l"
      }
    },
    {
      "cell_type": "code",
      "source": [
        "x=str(input(\"enter nmber to reverse \"))\n",
        "txt = x[::-1]\n",
        "print(txt)\n",
        "  \n",
        "  "
      ],
      "metadata": {
        "colab": {
          "base_uri": "https://localhost:8080/"
        },
        "id": "Ksdk8R1XB39y",
        "outputId": "74bff599-11b1-4f82-d61f-630693fe3db4"
      },
      "execution_count": 36,
      "outputs": [
        {
          "output_type": "stream",
          "name": "stdout",
          "text": [
            "enter nmber to reverse 313123444\n",
            "444321313\n"
          ]
        }
      ]
    },
    {
      "cell_type": "markdown",
      "source": [
        "4)WAP to find GCD or HCF"
      ],
      "metadata": {
        "id": "gQXK3Q_4JBVR"
      }
    },
    {
      "cell_type": "code",
      "source": [
        "x=int(input(\"Enter the value of x: \"))\n",
        "y=int(input(\"Enter the value of y: \"))\n",
        "if x>y:\n",
        "  smaller=y\n",
        "else:\n",
        "  smaller=x\n",
        "for i in range(1,smaller+1):\n",
        "  if((x%i==0) and (y%i==0)):\n",
        "    hcf=i\n",
        "print(hcf)"
      ],
      "metadata": {
        "colab": {
          "base_uri": "https://localhost:8080/"
        },
        "id": "iOg1MDqeIEZN",
        "outputId": "a75e367e-88d2-4a00-fbe8-05c098fbe363"
      },
      "execution_count": 37,
      "outputs": [
        {
          "output_type": "stream",
          "name": "stdout",
          "text": [
            "Enter the value of x: 20\n",
            "Enter the value of y: 40\n",
            "20\n"
          ]
        }
      ]
    },
    {
      "cell_type": "markdown",
      "source": [
        "15)(Print following pattern)"
      ],
      "metadata": {
        "id": "1Hoi8XlpLxgU"
      }
    },
    {
      "cell_type": "code",
      "source": [
        "def pattern(n):\n",
        "  for i in range(0,n):\n",
        "    for j in range(0,i+1):\n",
        "      print(\"* \",end=\" \")\n",
        "    print(\"\\r\")\n",
        "n=5\n",
        "pattern(n)"
      ],
      "metadata": {
        "colab": {
          "base_uri": "https://localhost:8080/"
        },
        "id": "HfCzMqUVLySf",
        "outputId": "6c851d26-d240-4ee9-e2e6-7f7bea7f21f5"
      },
      "execution_count": 38,
      "outputs": [
        {
          "output_type": "stream",
          "name": "stdout",
          "text": [
            "*  \r\n",
            "*  *  \r\n",
            "*  *  *  \r\n",
            "*  *  *  *  \r\n",
            "*  *  *  *  *  \r\n"
          ]
        }
      ]
    }
  ]
}