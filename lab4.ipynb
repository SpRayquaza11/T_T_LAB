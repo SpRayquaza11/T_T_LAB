{
  "nbformat": 4,
  "nbformat_minor": 0,
  "metadata": {
    "colab": {
      "name": "lab4.ipynb",
      "provenance": [],
      "authorship_tag": "ABX9TyM2VK/ggPN0Ci1LEzzJj8c4",
      "include_colab_link": true
    },
    "kernelspec": {
      "name": "python3",
      "display_name": "Python 3"
    },
    "language_info": {
      "name": "python"
    }
  },
  "cells": [
    {
      "cell_type": "markdown",
      "metadata": {
        "id": "view-in-github",
        "colab_type": "text"
      },
      "source": [
        "<a href=\"https://colab.research.google.com/github/SpRayquaza11/T_T_LAB/blob/main/lab4.ipynb\" target=\"_parent\"><img src=\"https://colab.research.google.com/assets/colab-badge.svg\" alt=\"Open In Colab\"/></a>"
      ]
    },
    {
      "cell_type": "markdown",
      "source": [
        "WAP to calculate the sum of digits of a given number."
      ],
      "metadata": {
        "id": "F-5DLViaI6Cw"
      }
    },
    {
      "cell_type": "code",
      "execution_count": 3,
      "metadata": {
        "colab": {
          "base_uri": "https://localhost:8080/"
        },
        "id": "Qkj_4_LV13qF",
        "outputId": "343242cd-f8e0-4315-ff3a-eba119ebefca"
      },
      "outputs": [
        {
          "output_type": "stream",
          "name": "stdout",
          "text": [
            "31314\n",
            "enter a number\n",
            "the sum is  12\n"
          ]
        }
      ],
      "source": [
        "def sumation_of_digits(n):\n",
        "  print(\"enter a number\")\n",
        "  s = 0\n",
        "  while(n>0):\n",
        "    f = n%10\n",
        "    s += f\n",
        "    n = n // 10\n",
        "  print(\"the sum is \", s)\n",
        "\n",
        "\n",
        "\n",
        "\n",
        "x = int(input())\n",
        "sumation_of_digits(x)\n",
        "\n",
        "\n"
      ]
    },
    {
      "cell_type": "markdown",
      "source": [
        "2) WAP to calculate the factorial of a given number."
      ],
      "metadata": {
        "id": "fKqlm4CPIwBn"
      }
    },
    {
      "cell_type": "code",
      "source": [
        "def fact(n):\n",
        "  i=1\n",
        "  f=n\n",
        "  while (i<n):  \n",
        "     f = f*i\n",
        "     i+=1\n",
        "  print(\"the factorial is\",f)\n",
        "\n",
        "\n",
        "\n",
        "x = int(input(\"enter the number to find factorial of \"))\n",
        "fact (x)\n"
      ],
      "metadata": {
        "colab": {
          "base_uri": "https://localhost:8080/"
        },
        "id": "WtTSxzsp_MyY",
        "outputId": "0bffcfd4-a1cb-4c1b-d4ca-f4c3d11b234a"
      },
      "execution_count": 6,
      "outputs": [
        {
          "output_type": "stream",
          "name": "stdout",
          "text": [
            "enter the number to find factorial of 6\n",
            "the factorial is 720\n"
          ]
        }
      ]
    },
    {
      "cell_type": "markdown",
      "source": [
        "3)WAP to display the reverse of a number entered through keyboard. "
      ],
      "metadata": {
        "id": "oqEuccQzIk_l"
      }
    },
    {
      "cell_type": "code",
      "source": [
        "def get_string(z):\n",
        "  txt = x[::-1]\n",
        "  print(txt)\n",
        "\n",
        "\n",
        "x=str(input(\"enter nmber to reverse \"))\n",
        "get_string(x)\n",
        "\n",
        "\n",
        "  \n",
        "  "
      ],
      "metadata": {
        "colab": {
          "base_uri": "https://localhost:8080/"
        },
        "id": "Ksdk8R1XB39y",
        "outputId": "24f93cb4-09c4-4bd2-8927-cecb5d36e175"
      },
      "execution_count": 10,
      "outputs": [
        {
          "output_type": "stream",
          "name": "stdout",
          "text": [
            "enter nmber to reverse 1314444\n",
            "4444131\n"
          ]
        }
      ]
    },
    {
      "cell_type": "markdown",
      "source": [
        "4)WAP to find GCD or HCF"
      ],
      "metadata": {
        "id": "gQXK3Q_4JBVR"
      }
    },
    {
      "cell_type": "code",
      "source": [
        "def HCF(n,m):\n",
        "  if x>y:\n",
        "    smaller=y\n",
        "  else:\n",
        "    smaller=x\n",
        "  for i in range(1,smaller+1):\n",
        "    if((x%i==0) and (y%i==0)):\n",
        "      hcf=i\n",
        "  print(hcf)\n",
        "\n",
        "\n",
        "x=int(input(\"Enter the value of x: \"))\n",
        "y=int(input(\"Enter the value of y: \"))\n",
        "\n",
        "HCF(x,y)"
      ],
      "metadata": {
        "colab": {
          "base_uri": "https://localhost:8080/"
        },
        "id": "iOg1MDqeIEZN",
        "outputId": "5951c1f9-bfcb-4e7a-9c5a-6825eb66d1a7"
      },
      "execution_count": 9,
      "outputs": [
        {
          "output_type": "stream",
          "name": "stdout",
          "text": [
            "Enter the value of x: 40\n",
            "Enter the value of y: 30\n",
            "10\n"
          ]
        }
      ]
    },
    {
      "cell_type": "markdown",
      "source": [
        "15)(Print following pattern)"
      ],
      "metadata": {
        "id": "1Hoi8XlpLxgU"
      }
    },
    {
      "cell_type": "code",
      "source": [
        "def pattern(n):\n",
        "  for i in range(0,n):\n",
        "    for j in range(0,i+1):\n",
        "      print(\"* \", end =\" \")\n",
        "    print(\"\\r\")\n",
        "n=5\n",
        "pattern(n)"
      ],
      "metadata": {
        "colab": {
          "base_uri": "https://localhost:8080/"
        },
        "id": "HfCzMqUVLySf",
        "outputId": "ceda9a7d-ac13-4b56-c5aa-7083f49b14e1"
      },
      "execution_count": 8,
      "outputs": [
        {
          "output_type": "stream",
          "name": "stdout",
          "text": [
            "*  \r\n",
            "*  *  \r\n",
            "*  *  *  \r\n",
            "*  *  *  *  \r\n",
            "*  *  *  *  *  \r\n"
          ]
        }
      ]
    }
  ]
}