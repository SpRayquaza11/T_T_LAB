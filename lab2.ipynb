{
  "nbformat": 4,
  "nbformat_minor": 0,
  "metadata": {
    "colab": {
      "name": "lab2.ipynb",
      "provenance": [],
      "collapsed_sections": [],
      "authorship_tag": "ABX9TyPi1jP5Luceo86xjmWMnVbA",
      "include_colab_link": true
    },
    "kernelspec": {
      "name": "python3",
      "display_name": "Python 3"
    },
    "language_info": {
      "name": "python"
    }
  },
  "cells": [
    {
      "cell_type": "markdown",
      "metadata": {
        "id": "view-in-github",
        "colab_type": "text"
      },
      "source": [
        "<a href=\"https://colab.research.google.com/github/SpRayquaza11/T_T_LAB/blob/main/lab2.ipynb\" target=\"_parent\"><img src=\"https://colab.research.google.com/assets/colab-badge.svg\" alt=\"Open In Colab\"/></a>"
      ]
    },
    {
      "cell_type": "code",
      "execution_count": null,
      "metadata": {
        "colab": {
          "base_uri": "https://localhost:8080/"
        },
        "id": "NNiHZ_lK02df",
        "outputId": "3fbc1d08-3ec4-416b-e39d-0a34ad36fba4"
      },
      "outputs": [
        {
          "output_type": "stream",
          "name": "stdout",
          "text": [
            "344\n",
            "even\n"
          ]
        }
      ],
      "source": [
        "n = float(input())\n",
        "if(n%2==0):\n",
        "    print (\"even\")\n",
        "else:\n",
        "    print (\"odd\")\n",
        "    "
      ]
    },
    {
      "cell_type": "code",
      "source": [
        "x = int(input())\n",
        "y = int(input())\n",
        "print (\"nested if else example\")\n",
        "#if non zero will execute#\n",
        "if x or y:\n",
        "  if x and y:\n",
        "    print(\"both are non zero\")\n",
        "  else:\n",
        "    print(\"only one is non zero\")\n",
        "else:\n",
        "  print(\"both x and y are 0\")  "
      ],
      "metadata": {
        "colab": {
          "base_uri": "https://localhost:8080/"
        },
        "id": "myXHqpDm_gbL",
        "outputId": "a5d93934-e522-4226-ea0d-f5093a2408e5"
      },
      "execution_count": null,
      "outputs": [
        {
          "output_type": "stream",
          "name": "stdout",
          "text": [
            "0\n",
            "1\n",
            "nested if else example\n",
            "only one is non zero\n"
          ]
        }
      ]
    },
    {
      "cell_type": "code",
      "source": [
        "n = int(input())\n",
        "print (\"if else ladder example\")\n",
        "if n==1:\n",
        "  print(\"first\")\n",
        "elif n==2:\n",
        "  print(\"second\")\n",
        "elif n==3:\n",
        "  print(\"third\")\n",
        "else:\n",
        "  print(\"the rest\")\n"
      ],
      "metadata": {
        "colab": {
          "base_uri": "https://localhost:8080/"
        },
        "id": "v6tL231z_w3Y",
        "outputId": "2aa829d2-4a87-4cfe-aa92-0dc51ca64f14"
      },
      "execution_count": null,
      "outputs": [
        {
          "output_type": "stream",
          "name": "stdout",
          "text": [
            "5\n",
            "if else ladder example\n",
            "the rest\n"
          ]
        }
      ]
    },
    {
      "cell_type": "code",
      "source": [
        "x = \"Hello World\"\n",
        "i=0\n",
        "while i<5 :\n",
        "  print(x)\n",
        "  i+=1\n",
        "print (\"exited loop\")\n"
      ],
      "metadata": {
        "colab": {
          "base_uri": "https://localhost:8080/"
        },
        "id": "SAg_xD_PCe6y",
        "outputId": "49744a3a-ff41-4c05-89f7-39834082d333"
      },
      "execution_count": null,
      "outputs": [
        {
          "output_type": "stream",
          "name": "stdout",
          "text": [
            "Hello World\n",
            "Hello World\n",
            "Hello World\n",
            "Hello World\n",
            "Hello World\n",
            "exited loop\n"
          ]
        }
      ]
    },
    {
      "cell_type": "code",
      "source": [
        "y = \"World Hello\"\n",
        "i=0\n",
        "\n",
        "while i<3:\n",
        "    i+=1\n",
        "    j=0\n",
        "    while j<3:\n",
        "        print(y)\n",
        "        j+=1\n",
        "print (\"exited loop\")"
      ],
      "metadata": {
        "colab": {
          "base_uri": "https://localhost:8080/"
        },
        "id": "8FnIcK26DAZX",
        "outputId": "02223997-6441-4ce1-9453-69a31f5bbd48"
      },
      "execution_count": null,
      "outputs": [
        {
          "output_type": "stream",
          "name": "stdout",
          "text": [
            "World Hello\n",
            "World Hello\n",
            "World Hello\n",
            "World Hello\n",
            "World Hello\n",
            "World Hello\n",
            "World Hello\n",
            "World Hello\n",
            "World Hello\n",
            "exited loop\n"
          ]
        }
      ]
    }
  ]
}